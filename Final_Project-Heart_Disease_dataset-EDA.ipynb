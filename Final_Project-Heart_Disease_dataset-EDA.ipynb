{
 "cells": [
  {
   "cell_type": "markdown",
   "id": "99cd0fbd",
   "metadata": {},
   "source": [
    "# Exploratory Data Analysis of final project dataset used to determine the most appropriate ML model to be applied.\n",
    "-By Maximilian Klimko "
   ]
  },
  {
   "cell_type": "code",
   "execution_count": 1,
   "id": "bf6f7d5b",
   "metadata": {},
   "outputs": [],
   "source": [
    "#Importing packages to cover all bases\n",
    "import pandas as pd\n",
    "import numpy as np\n",
    "import matplotlib.pyplot as plt\n",
    "import seaborn as sns\n",
    "from sklearn.linear_model import LinearRegression\n",
    "from sklearn.linear_model import LogisticRegression\n",
    "from sklearn.model_selection import train_test_split\n",
    "from sklearn import linear_model, model_selection, metrics\n",
    "from sklearn.tree import export_graphviz\n",
    "from sklearn.tree import DecisionTreeClassifier\n",
    "import graphviz\n",
    "%matplotlib inline"
   ]
  },
  {
   "cell_type": "code",
   "execution_count": 2,
   "id": "f3ea410f",
   "metadata": {},
   "outputs": [],
   "source": [
    "#importing and reading data using Pandas\n",
    "data = 'C:/Users/maxkl/Desktop/forked_repo/course_assignments/project-final/heart.csv'\n",
    "heartdata = pd.read_csv(data, error_bad_lines=False)"
   ]
  },
  {
   "cell_type": "code",
   "execution_count": 3,
   "id": "3b85622c",
   "metadata": {},
   "outputs": [
    {
     "data": {
      "text/html": [
       "<div>\n",
       "<style scoped>\n",
       "    .dataframe tbody tr th:only-of-type {\n",
       "        vertical-align: middle;\n",
       "    }\n",
       "\n",
       "    .dataframe tbody tr th {\n",
       "        vertical-align: top;\n",
       "    }\n",
       "\n",
       "    .dataframe thead th {\n",
       "        text-align: right;\n",
       "    }\n",
       "</style>\n",
       "<table border=\"1\" class=\"dataframe\">\n",
       "  <thead>\n",
       "    <tr style=\"text-align: right;\">\n",
       "      <th></th>\n",
       "      <th>Age</th>\n",
       "      <th>Sex</th>\n",
       "      <th>CPT</th>\n",
       "      <th>RBP</th>\n",
       "      <th>CTL</th>\n",
       "      <th>FBS</th>\n",
       "      <th>ECG</th>\n",
       "      <th>MHR</th>\n",
       "      <th>ExA</th>\n",
       "      <th>Old</th>\n",
       "      <th>STS</th>\n",
       "      <th>HD</th>\n",
       "    </tr>\n",
       "  </thead>\n",
       "  <tbody>\n",
       "    <tr>\n",
       "      <th>0</th>\n",
       "      <td>40</td>\n",
       "      <td>M</td>\n",
       "      <td>ATA</td>\n",
       "      <td>140</td>\n",
       "      <td>289</td>\n",
       "      <td>0</td>\n",
       "      <td>Normal</td>\n",
       "      <td>172</td>\n",
       "      <td>N</td>\n",
       "      <td>0.0</td>\n",
       "      <td>Up</td>\n",
       "      <td>0</td>\n",
       "    </tr>\n",
       "    <tr>\n",
       "      <th>1</th>\n",
       "      <td>49</td>\n",
       "      <td>F</td>\n",
       "      <td>NAP</td>\n",
       "      <td>160</td>\n",
       "      <td>180</td>\n",
       "      <td>0</td>\n",
       "      <td>Normal</td>\n",
       "      <td>156</td>\n",
       "      <td>N</td>\n",
       "      <td>1.0</td>\n",
       "      <td>Flat</td>\n",
       "      <td>1</td>\n",
       "    </tr>\n",
       "    <tr>\n",
       "      <th>2</th>\n",
       "      <td>37</td>\n",
       "      <td>M</td>\n",
       "      <td>ATA</td>\n",
       "      <td>130</td>\n",
       "      <td>283</td>\n",
       "      <td>0</td>\n",
       "      <td>ST</td>\n",
       "      <td>98</td>\n",
       "      <td>N</td>\n",
       "      <td>0.0</td>\n",
       "      <td>Up</td>\n",
       "      <td>0</td>\n",
       "    </tr>\n",
       "    <tr>\n",
       "      <th>3</th>\n",
       "      <td>48</td>\n",
       "      <td>F</td>\n",
       "      <td>ASY</td>\n",
       "      <td>138</td>\n",
       "      <td>214</td>\n",
       "      <td>0</td>\n",
       "      <td>Normal</td>\n",
       "      <td>108</td>\n",
       "      <td>Y</td>\n",
       "      <td>1.5</td>\n",
       "      <td>Flat</td>\n",
       "      <td>1</td>\n",
       "    </tr>\n",
       "    <tr>\n",
       "      <th>4</th>\n",
       "      <td>54</td>\n",
       "      <td>M</td>\n",
       "      <td>NAP</td>\n",
       "      <td>150</td>\n",
       "      <td>195</td>\n",
       "      <td>0</td>\n",
       "      <td>Normal</td>\n",
       "      <td>122</td>\n",
       "      <td>N</td>\n",
       "      <td>0.0</td>\n",
       "      <td>Up</td>\n",
       "      <td>0</td>\n",
       "    </tr>\n",
       "  </tbody>\n",
       "</table>\n",
       "</div>"
      ],
      "text/plain": [
       "   Age Sex  CPT  RBP  CTL  FBS     ECG  MHR ExA  Old   STS  HD\n",
       "0   40   M  ATA  140  289    0  Normal  172   N  0.0    Up   0\n",
       "1   49   F  NAP  160  180    0  Normal  156   N  1.0  Flat   1\n",
       "2   37   M  ATA  130  283    0      ST   98   N  0.0    Up   0\n",
       "3   48   F  ASY  138  214    0  Normal  108   Y  1.5  Flat   1\n",
       "4   54   M  NAP  150  195    0  Normal  122   N  0.0    Up   0"
      ]
     },
     "execution_count": 3,
     "metadata": {},
     "output_type": "execute_result"
    }
   ],
   "source": [
    "#renaming columns \n",
    "heartdata.rename(columns={'Age':\"Age\", 'Sex':\"Sex\", 'ChestPainType':\"CPT\", 'RestingBP':\"RBP\", 'Cholesterol':\"CTL\", 'FastingBS':\"FBS\",\n",
    "       'RestingECG':\"ECG\", 'MaxHR':\"MHR\", 'ExerciseAngina':\"ExA\", 'Oldpeak':\"Old\", 'ST_Slope':\"STS\",\n",
    "       'HeartDisease':\"HD\"}, inplace=True)\n",
    "heartdata.head()"
   ]
  },
  {
   "cell_type": "markdown",
   "id": "23d8c623",
   "metadata": {},
   "source": [
    " Age: \n",
    " in Years\n",
    "\n",
    " Sex: \n",
    " M: Male, F: Female\n",
    "\n",
    " CPT: \n",
    " TA - Typical Angina\n",
    " ATA - Atypical Angina\n",
    " NAP - Non-Anginal Pain\n",
    " ASY - Asymptomatic\n",
    "\n",
    " RBP: resting blood pressure [mm Hg]\n",
    "\n",
    " CTL: serum cholesterol [mm/dl]\n",
    "\n",
    " FBS: fasting blood sugar \n",
    " [1: if FastingBS > 120 mg/dl, 0: otherwise]\n",
    "\n",
    " ECG: resting electrocardiogram results \n",
    " Normal: Normal\n",
    " ST: having ST-T wave abnormality (T wave inversions and/or ST elevation or    depression of > 0.05 mV) \n",
    " LVH: showing probable or definite left ventricular hypertrophy by Estes' criteria]\n",
    "\n",
    " MHR: maximum heart rate achieved \n",
    " Numeric value between 60 and 202\n",
    "\n",
    " ExA: exercise-induced angina \n",
    " Y: Yes, N: No\n",
    "\n",
    " Old: \n",
    "ST [Numeric value measured in depression, implies restriction of bloodflow to tissue]\n",
    "\n",
    " STS: the slope of the peak exercise ST segment \n",
    " [Up: upsloping, Flat: flat, Down: downsloping]\n",
    "\n",
    " HeartDisease: target variable 1: yes, 0: no\n"
   ]
  },
  {
   "cell_type": "markdown",
   "id": "a9bce001",
   "metadata": {},
   "source": [
    "# Initial EDA"
   ]
  },
  {
   "cell_type": "code",
   "execution_count": 4,
   "id": "7403aac3",
   "metadata": {},
   "outputs": [
    {
     "data": {
      "text/plain": [
       "(918, 12)"
      ]
     },
     "execution_count": 4,
     "metadata": {},
     "output_type": "execute_result"
    }
   ],
   "source": [
    "heartdata.shape"
   ]
  },
  {
   "cell_type": "code",
   "execution_count": 5,
   "id": "a2203cb2",
   "metadata": {},
   "outputs": [
    {
     "data": {
      "text/plain": [
       "Index(['Age', 'Sex', 'CPT', 'RBP', 'CTL', 'FBS', 'ECG', 'MHR', 'ExA', 'Old',\n",
       "       'STS', 'HD'],\n",
       "      dtype='object')"
      ]
     },
     "execution_count": 5,
     "metadata": {},
     "output_type": "execute_result"
    }
   ],
   "source": [
    "heartdata.columns"
   ]
  },
  {
   "cell_type": "code",
   "execution_count": 6,
   "id": "3c683985",
   "metadata": {},
   "outputs": [
    {
     "data": {
      "text/plain": [
       "RangeIndex(start=0, stop=918, step=1)"
      ]
     },
     "execution_count": 6,
     "metadata": {},
     "output_type": "execute_result"
    }
   ],
   "source": [
    "heartdata.index"
   ]
  },
  {
   "cell_type": "code",
   "execution_count": 7,
   "id": "db79d329",
   "metadata": {},
   "outputs": [
    {
     "data": {
      "text/plain": [
       "Age     50\n",
       "Sex      2\n",
       "CPT      4\n",
       "RBP     67\n",
       "CTL    222\n",
       "FBS      2\n",
       "ECG      3\n",
       "MHR    119\n",
       "ExA      2\n",
       "Old     53\n",
       "STS      3\n",
       "HD       2\n",
       "dtype: int64"
      ]
     },
     "execution_count": 7,
     "metadata": {},
     "output_type": "execute_result"
    }
   ],
   "source": [
    "heartdata.nunique()"
   ]
  },
  {
   "cell_type": "code",
   "execution_count": 8,
   "id": "5fe214fb",
   "metadata": {},
   "outputs": [
    {
     "data": {
      "text/html": [
       "<div>\n",
       "<style scoped>\n",
       "    .dataframe tbody tr th:only-of-type {\n",
       "        vertical-align: middle;\n",
       "    }\n",
       "\n",
       "    .dataframe tbody tr th {\n",
       "        vertical-align: top;\n",
       "    }\n",
       "\n",
       "    .dataframe thead th {\n",
       "        text-align: right;\n",
       "    }\n",
       "</style>\n",
       "<table border=\"1\" class=\"dataframe\">\n",
       "  <thead>\n",
       "    <tr style=\"text-align: right;\">\n",
       "      <th></th>\n",
       "      <th>Age</th>\n",
       "      <th>RBP</th>\n",
       "      <th>CTL</th>\n",
       "      <th>FBS</th>\n",
       "      <th>MHR</th>\n",
       "      <th>Old</th>\n",
       "      <th>HD</th>\n",
       "    </tr>\n",
       "  </thead>\n",
       "  <tbody>\n",
       "    <tr>\n",
       "      <th>count</th>\n",
       "      <td>918.000000</td>\n",
       "      <td>918.000000</td>\n",
       "      <td>918.000000</td>\n",
       "      <td>918.000000</td>\n",
       "      <td>918.000000</td>\n",
       "      <td>918.000000</td>\n",
       "      <td>918.000000</td>\n",
       "    </tr>\n",
       "    <tr>\n",
       "      <th>mean</th>\n",
       "      <td>53.510893</td>\n",
       "      <td>132.396514</td>\n",
       "      <td>198.799564</td>\n",
       "      <td>0.233115</td>\n",
       "      <td>136.809368</td>\n",
       "      <td>0.887364</td>\n",
       "      <td>0.553377</td>\n",
       "    </tr>\n",
       "    <tr>\n",
       "      <th>std</th>\n",
       "      <td>9.432617</td>\n",
       "      <td>18.514154</td>\n",
       "      <td>109.384145</td>\n",
       "      <td>0.423046</td>\n",
       "      <td>25.460334</td>\n",
       "      <td>1.066570</td>\n",
       "      <td>0.497414</td>\n",
       "    </tr>\n",
       "    <tr>\n",
       "      <th>min</th>\n",
       "      <td>28.000000</td>\n",
       "      <td>0.000000</td>\n",
       "      <td>0.000000</td>\n",
       "      <td>0.000000</td>\n",
       "      <td>60.000000</td>\n",
       "      <td>-2.600000</td>\n",
       "      <td>0.000000</td>\n",
       "    </tr>\n",
       "    <tr>\n",
       "      <th>25%</th>\n",
       "      <td>47.000000</td>\n",
       "      <td>120.000000</td>\n",
       "      <td>173.250000</td>\n",
       "      <td>0.000000</td>\n",
       "      <td>120.000000</td>\n",
       "      <td>0.000000</td>\n",
       "      <td>0.000000</td>\n",
       "    </tr>\n",
       "    <tr>\n",
       "      <th>50%</th>\n",
       "      <td>54.000000</td>\n",
       "      <td>130.000000</td>\n",
       "      <td>223.000000</td>\n",
       "      <td>0.000000</td>\n",
       "      <td>138.000000</td>\n",
       "      <td>0.600000</td>\n",
       "      <td>1.000000</td>\n",
       "    </tr>\n",
       "    <tr>\n",
       "      <th>75%</th>\n",
       "      <td>60.000000</td>\n",
       "      <td>140.000000</td>\n",
       "      <td>267.000000</td>\n",
       "      <td>0.000000</td>\n",
       "      <td>156.000000</td>\n",
       "      <td>1.500000</td>\n",
       "      <td>1.000000</td>\n",
       "    </tr>\n",
       "    <tr>\n",
       "      <th>max</th>\n",
       "      <td>77.000000</td>\n",
       "      <td>200.000000</td>\n",
       "      <td>603.000000</td>\n",
       "      <td>1.000000</td>\n",
       "      <td>202.000000</td>\n",
       "      <td>6.200000</td>\n",
       "      <td>1.000000</td>\n",
       "    </tr>\n",
       "  </tbody>\n",
       "</table>\n",
       "</div>"
      ],
      "text/plain": [
       "              Age         RBP         CTL         FBS         MHR         Old  \\\n",
       "count  918.000000  918.000000  918.000000  918.000000  918.000000  918.000000   \n",
       "mean    53.510893  132.396514  198.799564    0.233115  136.809368    0.887364   \n",
       "std      9.432617   18.514154  109.384145    0.423046   25.460334    1.066570   \n",
       "min     28.000000    0.000000    0.000000    0.000000   60.000000   -2.600000   \n",
       "25%     47.000000  120.000000  173.250000    0.000000  120.000000    0.000000   \n",
       "50%     54.000000  130.000000  223.000000    0.000000  138.000000    0.600000   \n",
       "75%     60.000000  140.000000  267.000000    0.000000  156.000000    1.500000   \n",
       "max     77.000000  200.000000  603.000000    1.000000  202.000000    6.200000   \n",
       "\n",
       "               HD  \n",
       "count  918.000000  \n",
       "mean     0.553377  \n",
       "std      0.497414  \n",
       "min      0.000000  \n",
       "25%      0.000000  \n",
       "50%      1.000000  \n",
       "75%      1.000000  \n",
       "max      1.000000  "
      ]
     },
     "execution_count": 8,
     "metadata": {},
     "output_type": "execute_result"
    }
   ],
   "source": [
    "heartdata.describe()"
   ]
  },
  {
   "cell_type": "markdown",
   "id": "0cc0c9b9",
   "metadata": {},
   "source": [
    "# Decision tree to assess feature importance"
   ]
  },
  {
   "cell_type": "code",
   "execution_count": 13,
   "id": "6f5f36a5",
   "metadata": {},
   "outputs": [
    {
     "data": {
      "text/plain": [
       "DecisionTreeClassifier(max_depth=3, random_state=50)"
      ]
     },
     "execution_count": 13,
     "metadata": {},
     "output_type": "execute_result"
    }
   ],
   "source": [
    "from sklearn.tree import export_graphviz\n",
    "from sklearn.tree import DecisionTreeClassifier\n",
    "\n",
    "treeclf = DecisionTreeClassifier(max_depth=3, random_state=50)\n",
    "\n",
    "feature_cols = ['Age', 'RBP', 'CTL', 'FBS', 'MHR']\n",
    "\n",
    "X = heartdataclean[feature_cols]\n",
    "y = heartdataclean.HD\n",
    "\n",
    "treeclf.fit(X, y)"
   ]
  },
  {
   "cell_type": "code",
   "execution_count": 14,
   "id": "9b976c64",
   "metadata": {},
   "outputs": [
    {
     "data": {
      "text/html": [
       "<div>\n",
       "<style scoped>\n",
       "    .dataframe tbody tr th:only-of-type {\n",
       "        vertical-align: middle;\n",
       "    }\n",
       "\n",
       "    .dataframe tbody tr th {\n",
       "        vertical-align: top;\n",
       "    }\n",
       "\n",
       "    .dataframe thead th {\n",
       "        text-align: right;\n",
       "    }\n",
       "</style>\n",
       "<table border=\"1\" class=\"dataframe\">\n",
       "  <thead>\n",
       "    <tr style=\"text-align: right;\">\n",
       "      <th></th>\n",
       "      <th>feature</th>\n",
       "      <th>importance</th>\n",
       "    </tr>\n",
       "  </thead>\n",
       "  <tbody>\n",
       "    <tr>\n",
       "      <th>4</th>\n",
       "      <td>MHR</td>\n",
       "      <td>0.640681</td>\n",
       "    </tr>\n",
       "    <tr>\n",
       "      <th>0</th>\n",
       "      <td>Age</td>\n",
       "      <td>0.272739</td>\n",
       "    </tr>\n",
       "    <tr>\n",
       "      <th>1</th>\n",
       "      <td>RBP</td>\n",
       "      <td>0.067089</td>\n",
       "    </tr>\n",
       "    <tr>\n",
       "      <th>2</th>\n",
       "      <td>CTL</td>\n",
       "      <td>0.019491</td>\n",
       "    </tr>\n",
       "    <tr>\n",
       "      <th>3</th>\n",
       "      <td>FBS</td>\n",
       "      <td>0.000000</td>\n",
       "    </tr>\n",
       "  </tbody>\n",
       "</table>\n",
       "</div>"
      ],
      "text/plain": [
       "  feature  importance\n",
       "4     MHR    0.640681\n",
       "0     Age    0.272739\n",
       "1     RBP    0.067089\n",
       "2     CTL    0.019491\n",
       "3     FBS    0.000000"
      ]
     },
     "execution_count": 14,
     "metadata": {},
     "output_type": "execute_result"
    }
   ],
   "source": [
    "pd.DataFrame(\n",
    "    {'feature':feature_cols, 'importance':treeclf.feature_importances_}\n",
    ").sort_values(\"importance\", ascending=False)"
   ]
  },
  {
   "cell_type": "markdown",
   "id": "b38a9352",
   "metadata": {},
   "source": [
    "## Checking for CTL correlation with HD in highest value patients, both M and F "
   ]
  },
  {
   "cell_type": "code",
   "execution_count": 15,
   "id": "517e6dd6",
   "metadata": {},
   "outputs": [
    {
     "name": "stdout",
     "output_type": "stream",
     "text": [
      "(16, 12)\n"
     ]
    },
    {
     "data": {
      "text/html": [
       "<div>\n",
       "<style scoped>\n",
       "    .dataframe tbody tr th:only-of-type {\n",
       "        vertical-align: middle;\n",
       "    }\n",
       "\n",
       "    .dataframe tbody tr th {\n",
       "        vertical-align: top;\n",
       "    }\n",
       "\n",
       "    .dataframe thead th {\n",
       "        text-align: right;\n",
       "    }\n",
       "</style>\n",
       "<table border=\"1\" class=\"dataframe\">\n",
       "  <thead>\n",
       "    <tr style=\"text-align: right;\">\n",
       "      <th></th>\n",
       "      <th>Age</th>\n",
       "      <th>Sex</th>\n",
       "      <th>CPT</th>\n",
       "      <th>RBP</th>\n",
       "      <th>CTL</th>\n",
       "      <th>FBS</th>\n",
       "      <th>ECG</th>\n",
       "      <th>MHR</th>\n",
       "      <th>ExA</th>\n",
       "      <th>Old</th>\n",
       "      <th>STS</th>\n",
       "      <th>HD</th>\n",
       "    </tr>\n",
       "  </thead>\n",
       "  <tbody>\n",
       "    <tr>\n",
       "      <th>149</th>\n",
       "      <td>54</td>\n",
       "      <td>M</td>\n",
       "      <td>ASY</td>\n",
       "      <td>130</td>\n",
       "      <td>603</td>\n",
       "      <td>1</td>\n",
       "      <td>Normal</td>\n",
       "      <td>125</td>\n",
       "      <td>Y</td>\n",
       "      <td>1.0</td>\n",
       "      <td>Flat</td>\n",
       "      <td>1</td>\n",
       "    </tr>\n",
       "    <tr>\n",
       "      <th>76</th>\n",
       "      <td>32</td>\n",
       "      <td>M</td>\n",
       "      <td>ASY</td>\n",
       "      <td>118</td>\n",
       "      <td>529</td>\n",
       "      <td>0</td>\n",
       "      <td>Normal</td>\n",
       "      <td>130</td>\n",
       "      <td>N</td>\n",
       "      <td>0.0</td>\n",
       "      <td>Flat</td>\n",
       "      <td>1</td>\n",
       "    </tr>\n",
       "    <tr>\n",
       "      <th>30</th>\n",
       "      <td>53</td>\n",
       "      <td>M</td>\n",
       "      <td>NAP</td>\n",
       "      <td>145</td>\n",
       "      <td>518</td>\n",
       "      <td>0</td>\n",
       "      <td>Normal</td>\n",
       "      <td>130</td>\n",
       "      <td>N</td>\n",
       "      <td>0.0</td>\n",
       "      <td>Flat</td>\n",
       "      <td>1</td>\n",
       "    </tr>\n",
       "    <tr>\n",
       "      <th>250</th>\n",
       "      <td>44</td>\n",
       "      <td>M</td>\n",
       "      <td>ASY</td>\n",
       "      <td>135</td>\n",
       "      <td>491</td>\n",
       "      <td>0</td>\n",
       "      <td>Normal</td>\n",
       "      <td>135</td>\n",
       "      <td>N</td>\n",
       "      <td>0.0</td>\n",
       "      <td>Flat</td>\n",
       "      <td>1</td>\n",
       "    </tr>\n",
       "    <tr>\n",
       "      <th>103</th>\n",
       "      <td>40</td>\n",
       "      <td>M</td>\n",
       "      <td>ASY</td>\n",
       "      <td>120</td>\n",
       "      <td>466</td>\n",
       "      <td>1</td>\n",
       "      <td>Normal</td>\n",
       "      <td>152</td>\n",
       "      <td>Y</td>\n",
       "      <td>1.0</td>\n",
       "      <td>Flat</td>\n",
       "      <td>1</td>\n",
       "    </tr>\n",
       "    <tr>\n",
       "      <th>496</th>\n",
       "      <td>58</td>\n",
       "      <td>M</td>\n",
       "      <td>ASY</td>\n",
       "      <td>132</td>\n",
       "      <td>458</td>\n",
       "      <td>1</td>\n",
       "      <td>Normal</td>\n",
       "      <td>69</td>\n",
       "      <td>N</td>\n",
       "      <td>1.0</td>\n",
       "      <td>Down</td>\n",
       "      <td>0</td>\n",
       "    </tr>\n",
       "    <tr>\n",
       "      <th>69</th>\n",
       "      <td>44</td>\n",
       "      <td>M</td>\n",
       "      <td>ASY</td>\n",
       "      <td>150</td>\n",
       "      <td>412</td>\n",
       "      <td>0</td>\n",
       "      <td>Normal</td>\n",
       "      <td>170</td>\n",
       "      <td>N</td>\n",
       "      <td>0.0</td>\n",
       "      <td>Up</td>\n",
       "      <td>0</td>\n",
       "    </tr>\n",
       "    <tr>\n",
       "      <th>182</th>\n",
       "      <td>52</td>\n",
       "      <td>M</td>\n",
       "      <td>ASY</td>\n",
       "      <td>140</td>\n",
       "      <td>404</td>\n",
       "      <td>0</td>\n",
       "      <td>Normal</td>\n",
       "      <td>124</td>\n",
       "      <td>Y</td>\n",
       "      <td>2.0</td>\n",
       "      <td>Flat</td>\n",
       "      <td>1</td>\n",
       "    </tr>\n",
       "    <tr>\n",
       "      <th>132</th>\n",
       "      <td>56</td>\n",
       "      <td>M</td>\n",
       "      <td>ASY</td>\n",
       "      <td>170</td>\n",
       "      <td>388</td>\n",
       "      <td>0</td>\n",
       "      <td>ST</td>\n",
       "      <td>122</td>\n",
       "      <td>Y</td>\n",
       "      <td>2.0</td>\n",
       "      <td>Flat</td>\n",
       "      <td>1</td>\n",
       "    </tr>\n",
       "    <tr>\n",
       "      <th>613</th>\n",
       "      <td>58</td>\n",
       "      <td>M</td>\n",
       "      <td>ASY</td>\n",
       "      <td>140</td>\n",
       "      <td>385</td>\n",
       "      <td>1</td>\n",
       "      <td>LVH</td>\n",
       "      <td>135</td>\n",
       "      <td>N</td>\n",
       "      <td>0.3</td>\n",
       "      <td>Up</td>\n",
       "      <td>0</td>\n",
       "    </tr>\n",
       "  </tbody>\n",
       "</table>\n",
       "</div>"
      ],
      "text/plain": [
       "     Age Sex  CPT  RBP  CTL  FBS     ECG  MHR ExA  Old   STS  HD\n",
       "149   54   M  ASY  130  603    1  Normal  125   Y  1.0  Flat   1\n",
       "76    32   M  ASY  118  529    0  Normal  130   N  0.0  Flat   1\n",
       "30    53   M  NAP  145  518    0  Normal  130   N  0.0  Flat   1\n",
       "250   44   M  ASY  135  491    0  Normal  135   N  0.0  Flat   1\n",
       "103   40   M  ASY  120  466    1  Normal  152   Y  1.0  Flat   1\n",
       "496   58   M  ASY  132  458    1  Normal   69   N  1.0  Down   0\n",
       "69    44   M  ASY  150  412    0  Normal  170   N  0.0    Up   0\n",
       "182   52   M  ASY  140  404    0  Normal  124   Y  2.0  Flat   1\n",
       "132   56   M  ASY  170  388    0      ST  122   Y  2.0  Flat   1\n",
       "613   58   M  ASY  140  385    1     LVH  135   N  0.3    Up   0"
      ]
     },
     "execution_count": 15,
     "metadata": {},
     "output_type": "execute_result"
    }
   ],
   "source": [
    "print(heartdata[(heartdata[\"Sex\"] == \"M\") & (heartdata[\"CTL\"] > 350)].sort_values(\"CTL\", ascending=False).shape)\n",
    "heartdata[(heartdata[\"Sex\"] == \"M\") & (heartdata[\"CTL\"] > 350)].sort_values(\"CTL\", ascending=False).head(10)"
   ]
  },
  {
   "cell_type": "code",
   "execution_count": 16,
   "id": "1109f3d7",
   "metadata": {},
   "outputs": [
    {
     "name": "stdout",
     "output_type": "stream",
     "text": [
      "(11, 12)\n"
     ]
    },
    {
     "data": {
      "text/html": [
       "<div>\n",
       "<style scoped>\n",
       "    .dataframe tbody tr th:only-of-type {\n",
       "        vertical-align: middle;\n",
       "    }\n",
       "\n",
       "    .dataframe tbody tr th {\n",
       "        vertical-align: top;\n",
       "    }\n",
       "\n",
       "    .dataframe thead th {\n",
       "        text-align: right;\n",
       "    }\n",
       "</style>\n",
       "<table border=\"1\" class=\"dataframe\">\n",
       "  <thead>\n",
       "    <tr style=\"text-align: right;\">\n",
       "      <th></th>\n",
       "      <th>Age</th>\n",
       "      <th>Sex</th>\n",
       "      <th>CPT</th>\n",
       "      <th>RBP</th>\n",
       "      <th>CTL</th>\n",
       "      <th>FBS</th>\n",
       "      <th>ECG</th>\n",
       "      <th>MHR</th>\n",
       "      <th>ExA</th>\n",
       "      <th>Old</th>\n",
       "      <th>STS</th>\n",
       "      <th>HD</th>\n",
       "    </tr>\n",
       "  </thead>\n",
       "  <tbody>\n",
       "    <tr>\n",
       "      <th>616</th>\n",
       "      <td>67</td>\n",
       "      <td>F</td>\n",
       "      <td>NAP</td>\n",
       "      <td>115</td>\n",
       "      <td>564</td>\n",
       "      <td>0</td>\n",
       "      <td>LVH</td>\n",
       "      <td>160</td>\n",
       "      <td>N</td>\n",
       "      <td>1.6</td>\n",
       "      <td>Flat</td>\n",
       "      <td>0</td>\n",
       "    </tr>\n",
       "    <tr>\n",
       "      <th>28</th>\n",
       "      <td>53</td>\n",
       "      <td>F</td>\n",
       "      <td>ATA</td>\n",
       "      <td>113</td>\n",
       "      <td>468</td>\n",
       "      <td>0</td>\n",
       "      <td>Normal</td>\n",
       "      <td>127</td>\n",
       "      <td>N</td>\n",
       "      <td>0.0</td>\n",
       "      <td>Up</td>\n",
       "      <td>0</td>\n",
       "    </tr>\n",
       "    <tr>\n",
       "      <th>667</th>\n",
       "      <td>65</td>\n",
       "      <td>F</td>\n",
       "      <td>NAP</td>\n",
       "      <td>140</td>\n",
       "      <td>417</td>\n",
       "      <td>1</td>\n",
       "      <td>LVH</td>\n",
       "      <td>157</td>\n",
       "      <td>N</td>\n",
       "      <td>0.8</td>\n",
       "      <td>Up</td>\n",
       "      <td>0</td>\n",
       "    </tr>\n",
       "    <tr>\n",
       "      <th>796</th>\n",
       "      <td>56</td>\n",
       "      <td>F</td>\n",
       "      <td>ASY</td>\n",
       "      <td>134</td>\n",
       "      <td>409</td>\n",
       "      <td>0</td>\n",
       "      <td>LVH</td>\n",
       "      <td>150</td>\n",
       "      <td>Y</td>\n",
       "      <td>1.9</td>\n",
       "      <td>Flat</td>\n",
       "      <td>1</td>\n",
       "    </tr>\n",
       "    <tr>\n",
       "      <th>624</th>\n",
       "      <td>63</td>\n",
       "      <td>F</td>\n",
       "      <td>ASY</td>\n",
       "      <td>150</td>\n",
       "      <td>407</td>\n",
       "      <td>0</td>\n",
       "      <td>LVH</td>\n",
       "      <td>154</td>\n",
       "      <td>N</td>\n",
       "      <td>4.0</td>\n",
       "      <td>Flat</td>\n",
       "      <td>1</td>\n",
       "    </tr>\n",
       "    <tr>\n",
       "      <th>256</th>\n",
       "      <td>55</td>\n",
       "      <td>F</td>\n",
       "      <td>ATA</td>\n",
       "      <td>130</td>\n",
       "      <td>394</td>\n",
       "      <td>0</td>\n",
       "      <td>LVH</td>\n",
       "      <td>150</td>\n",
       "      <td>N</td>\n",
       "      <td>0.0</td>\n",
       "      <td>Up</td>\n",
       "      <td>0</td>\n",
       "    </tr>\n",
       "    <tr>\n",
       "      <th>803</th>\n",
       "      <td>62</td>\n",
       "      <td>F</td>\n",
       "      <td>ASY</td>\n",
       "      <td>140</td>\n",
       "      <td>394</td>\n",
       "      <td>0</td>\n",
       "      <td>LVH</td>\n",
       "      <td>157</td>\n",
       "      <td>N</td>\n",
       "      <td>1.2</td>\n",
       "      <td>Flat</td>\n",
       "      <td>0</td>\n",
       "    </tr>\n",
       "    <tr>\n",
       "      <th>123</th>\n",
       "      <td>58</td>\n",
       "      <td>F</td>\n",
       "      <td>ATA</td>\n",
       "      <td>180</td>\n",
       "      <td>393</td>\n",
       "      <td>0</td>\n",
       "      <td>Normal</td>\n",
       "      <td>110</td>\n",
       "      <td>Y</td>\n",
       "      <td>1.0</td>\n",
       "      <td>Flat</td>\n",
       "      <td>1</td>\n",
       "    </tr>\n",
       "    <tr>\n",
       "      <th>102</th>\n",
       "      <td>40</td>\n",
       "      <td>F</td>\n",
       "      <td>ASY</td>\n",
       "      <td>150</td>\n",
       "      <td>392</td>\n",
       "      <td>0</td>\n",
       "      <td>Normal</td>\n",
       "      <td>130</td>\n",
       "      <td>N</td>\n",
       "      <td>2.0</td>\n",
       "      <td>Flat</td>\n",
       "      <td>1</td>\n",
       "    </tr>\n",
       "    <tr>\n",
       "      <th>738</th>\n",
       "      <td>65</td>\n",
       "      <td>F</td>\n",
       "      <td>NAP</td>\n",
       "      <td>160</td>\n",
       "      <td>360</td>\n",
       "      <td>0</td>\n",
       "      <td>LVH</td>\n",
       "      <td>151</td>\n",
       "      <td>N</td>\n",
       "      <td>0.8</td>\n",
       "      <td>Up</td>\n",
       "      <td>0</td>\n",
       "    </tr>\n",
       "  </tbody>\n",
       "</table>\n",
       "</div>"
      ],
      "text/plain": [
       "     Age Sex  CPT  RBP  CTL  FBS     ECG  MHR ExA  Old   STS  HD\n",
       "616   67   F  NAP  115  564    0     LVH  160   N  1.6  Flat   0\n",
       "28    53   F  ATA  113  468    0  Normal  127   N  0.0    Up   0\n",
       "667   65   F  NAP  140  417    1     LVH  157   N  0.8    Up   0\n",
       "796   56   F  ASY  134  409    0     LVH  150   Y  1.9  Flat   1\n",
       "624   63   F  ASY  150  407    0     LVH  154   N  4.0  Flat   1\n",
       "256   55   F  ATA  130  394    0     LVH  150   N  0.0    Up   0\n",
       "803   62   F  ASY  140  394    0     LVH  157   N  1.2  Flat   0\n",
       "123   58   F  ATA  180  393    0  Normal  110   Y  1.0  Flat   1\n",
       "102   40   F  ASY  150  392    0  Normal  130   N  2.0  Flat   1\n",
       "738   65   F  NAP  160  360    0     LVH  151   N  0.8    Up   0"
      ]
     },
     "execution_count": 16,
     "metadata": {},
     "output_type": "execute_result"
    }
   ],
   "source": [
    "print(heartdata[(heartdata[\"Sex\"] == \"F\") & (heartdata[\"CTL\"] > 350)].sort_values(\"CTL\", ascending=False).shape)\n",
    "heartdata[(heartdata[\"Sex\"] == \"F\") & (heartdata[\"CTL\"] > 350)].sort_values(\"CTL\", ascending=False).head(10)"
   ]
  },
  {
   "cell_type": "code",
   "execution_count": 17,
   "id": "f68aa217",
   "metadata": {},
   "outputs": [
    {
     "data": {
      "image/png": "[encoded data removed]",
      "text/plain": [
       "<Figure size 720x360 with 2 Axes>"
      ]
     },
     "metadata": {},
     "output_type": "display_data"
    }
   ],
   "source": [
    "#removed 0 values in Cholesterol column and saved to \"no_chol\"\n",
    "no_chol = heartdata[heartdata[\"CTL\"] > 0]\n",
    "#plotted up the correlation between CLT and HD in men and women separately \n",
    "#there seems to be a positive correlation in both men and women\n",
    "sns.set_theme(style='darkgrid', palette='cubehelix')\n",
    "sns.lmplot(data=no_chol,x=\"CTL\", y= \"HD\", col= \"Sex\");"
   ]
  },
  {
   "cell_type": "code",
   "execution_count": 18,
   "id": "22959e08",
   "metadata": {},
   "outputs": [
    {
     "data": {
      "image/png": "[encoded data removed]",
      "text/plain": [
       "<Figure size 720x360 with 2 Axes>"
      ]
     },
     "metadata": {},
     "output_type": "display_data"
    }
   ],
   "source": [
    "#this plot shows that the men in this dataset have higher cholesterol levels than women\n",
    "#and also suffer more from heart disease at higher levels of cholesterol\n",
    "sns.lmplot(data=heartdata[heartdata[\"CTL\"] > 300], x=\"CTL\", y= \"HD\", col= \"Sex\");"
   ]
  },
  {
   "cell_type": "markdown",
   "id": "2c68d40d",
   "metadata": {},
   "source": [
    "# Checking for correlation between Age and HD in M and F"
   ]
  },
  {
   "cell_type": "code",
   "execution_count": 19,
   "id": "51d4a725",
   "metadata": {},
   "outputs": [
    {
     "data": {
      "image/png": "[encoded data removed]",
      "text/plain": [
       "<Figure size 720x360 with 2 Axes>"
      ]
     },
     "metadata": {},
     "output_type": "display_data"
    }
   ],
   "source": [
    "#Age seems to be a factor in predicting heart disease, moreso in men than women.\n",
    "sns.lmplot(data=heartdata[heartdata[\"Age\"] > 50], x=\"Age\", y= \"HD\", col= \"Sex\");"
   ]
  },
  {
   "cell_type": "markdown",
   "id": "7e62bb0a",
   "metadata": {},
   "source": [
    "# Checking for correlation between Max Heart Rate and HD in M and F"
   ]
  },
  {
   "cell_type": "code",
   "execution_count": 20,
   "id": "d8b074a5",
   "metadata": {},
   "outputs": [
    {
     "data": {
      "image/png": "[encoded data removed]",
      "text/plain": [
       "<Figure size 720x360 with 2 Axes>"
      ]
     },
     "metadata": {},
     "output_type": "display_data"
    }
   ],
   "source": [
    "#clear negative correlation between Max heart rate and heart disease\n",
    "sns.lmplot(data=heartdata, x=\"MHR\", y= \"HD\", col= \"Sex\");"
   ]
  },
  {
   "cell_type": "markdown",
   "id": "2a00ee0d",
   "metadata": {},
   "source": [
    "# Checking for correlation between Resting Blood Pressure and HD\n",
    "# in M and F"
   ]
  },
  {
   "cell_type": "code",
   "execution_count": 21,
   "id": "cdf7cf15",
   "metadata": {},
   "outputs": [
    {
     "data": {
      "image/png": "[encoded data removed]",
      "text/plain": [
       "<Figure size 720x360 with 2 Axes>"
      ]
     },
     "metadata": {},
     "output_type": "display_data"
    }
   ],
   "source": [
    "sns.lmplot(data=heartdata, x=\"RBP\", y= \"HD\", col= \"Sex\");"
   ]
  },
  {
   "cell_type": "code",
   "execution_count": 11,
   "id": "bf6c175e",
   "metadata": {},
   "outputs": [
    {
     "name": "stdout",
     "output_type": "stream",
     "text": [
      "CTL\n",
      "0      172\n",
      "254     11\n",
      "223     10\n",
      "220     10\n",
      "211      9\n",
      "      ... \n",
      "117      1\n",
      "123      1\n",
      "131      1\n",
      "293      1\n",
      "603      1\n",
      "Length: 222, dtype: int64\n"
     ]
    }
   ],
   "source": [
    "#there are 172 0 values for CTL in this dataset so I filtered them and saved the result as a new dataframe \n",
    "print(heartdata[[\"CTL\"]].value_counts())\n",
    "heartdataclean = heartdata[(heartdata.CTL) > 0]"
   ]
  },
  {
   "cell_type": "code",
   "execution_count": 12,
   "id": "932389b1",
   "metadata": {},
   "outputs": [
    {
     "data": {
      "text/plain": [
       "603     1\n",
       "407     1\n",
       "529     1\n",
       "409     1\n",
       "518     1\n",
       "       ..\n",
       "204     9\n",
       "230     9\n",
       "220    10\n",
       "223    10\n",
       "254    11\n",
       "Name: CTL, Length: 221, dtype: int64"
      ]
     },
     "execution_count": 12,
     "metadata": {},
     "output_type": "execute_result"
    }
   ],
   "source": [
    "heartdataclean.CTL.value_counts().sort_values()"
   ]
  },
  {
   "cell_type": "markdown",
   "id": "bea54344",
   "metadata": {},
   "source": [
    "# Logistic Regression\n",
    "### I chose logistic regression as this is a classification problem, but mainly because the data set is not very large.\n",
    "### I chose CTL, MHR and Age as the features"
   ]
  },
  {
   "cell_type": "code",
   "execution_count": 22,
   "id": "0913dad9",
   "metadata": {},
   "outputs": [],
   "source": [
    "#Instantiating the class\n",
    "lr = LogisticRegression()\n",
    "\n",
    "#setting feature and target variables\n",
    "X = heartdataclean[[\"CTL\", \"MHR\", \"Age\"]]\n",
    "y = heartdataclean.HD\n",
    "\n",
    "#train test split\n",
    "X_train, X_test, y_train, y_test = train_test_split(X,y)\n",
    "\n",
    "#fitting the model\n",
    "lr.fit(X_train, y_train)\n",
    "\n",
    "#setting test and train predictions\n",
    "y_pred_train = lr.predict(X_train)\n",
    "y_pred_test = lr.predict(X_test)"
   ]
  },
  {
   "cell_type": "code",
   "execution_count": 23,
   "id": "3143cb49",
   "metadata": {},
   "outputs": [
    {
     "name": "stdout",
     "output_type": "stream",
     "text": [
      "Probability of predicting the above mentioned feature values(0 or 1):[[0.52894896 0.47105104]]\n",
      "Probability of predicting the above mentioned feature values(0 or 1):[[0.32617195 0.67382805]]\n"
     ]
    }
   ],
   "source": [
    "#predicting the probability of HD(0 or 1) using mean feature values and manually selected values.\n",
    "y_pred_prob_test = lr.predict_proba(\n",
    "    np.array([heartdataclean.CTL.mean(),heartdataclean.MHR.mean(),heartdataclean.Age.mean()]).reshape(1,-1))\n",
    "print(f\"Probability of predicting the above mentioned feature values(0 or 1):{y_pred_prob_test}\")\n",
    "\n",
    "y_pred_prob_test2 = lr.predict_proba(\n",
    "    np.array([450,130,50]).reshape(1,-1))\n",
    "print(f\"Probability of predicting the above mentioned feature values(0 or 1):{y_pred_prob_test2}\")"
   ]
  },
  {
   "cell_type": "code",
   "execution_count": 24,
   "id": "a72bdb08",
   "metadata": {},
   "outputs": [
    {
     "data": {
      "text/plain": [
       "0.6976744186046512"
      ]
     },
     "execution_count": 24,
     "metadata": {},
     "output_type": "execute_result"
    }
   ],
   "source": [
    "lr.score(X_train, y_train)"
   ]
  },
  {
   "cell_type": "code",
   "execution_count": 25,
   "id": "badca052",
   "metadata": {},
   "outputs": [
    {
     "data": {
      "text/plain": [
       "0.7005347593582888"
      ]
     },
     "execution_count": 25,
     "metadata": {},
     "output_type": "execute_result"
    }
   ],
   "source": [
    "lr.score(X_test, y_test)"
   ]
  },
  {
   "cell_type": "code",
   "execution_count": 26,
   "id": "9a54f92b",
   "metadata": {},
   "outputs": [
    {
     "data": {
      "text/plain": [
       "0    390\n",
       "1    356\n",
       "Name: HD, dtype: int64"
      ]
     },
     "execution_count": 26,
     "metadata": {},
     "output_type": "execute_result"
    }
   ],
   "source": [
    "#almost a 50/50 split between target classes\n",
    "heartdataclean.HD.value_counts()"
   ]
  },
  {
   "cell_type": "code",
   "execution_count": 27,
   "id": "a01edd71",
   "metadata": {},
   "outputs": [
    {
     "data": {
      "text/plain": [
       "array([[63, 31],\n",
       "       [25, 68]], dtype=int64)"
      ]
     },
     "execution_count": 27,
     "metadata": {},
     "output_type": "execute_result"
    }
   ],
   "source": [
    "#producing a confusion matrix\n",
    "#TN FP\n",
    "#FN TP\n",
    "metrics.confusion_matrix(y_test, y_pred_test)"
   ]
  },
  {
   "cell_type": "code",
   "execution_count": 28,
   "id": "391aadcc",
   "metadata": {},
   "outputs": [
    {
     "name": "stdout",
     "output_type": "stream",
     "text": [
      "Accuracy: 0.6898395721925134\n",
      "Precision: 0.6868686868686869\n",
      "Recall: 0.7311827956989247\n",
      "FP Rate: 0.25\n",
      "F1 Harmonic mean: 0.6511627906976744\n"
     ]
    }
   ],
   "source": [
    "#calculating the accuracy: TP+TN/Total\n",
    "print(f\"Accuracy: {(72+57)/(72+25+33+57)}\")\n",
    "#calculating the precision: TP/(TP+FP)\n",
    "print(f\"Precision: {metrics.precision_score(y_test, y_pred_test)}\")\n",
    "#calculating the recall: TP/(TP+FN)\n",
    "print(f\"Recall: {metrics.recall_score(y_test, y_pred_test)}\")\n",
    "#calculating the false positives rate: FP/actual no \n",
    "print(f\"FP Rate: {25/(25+75)}\")\n",
    "print(f\"F1 Harmonic mean: {(2 * (0.6829268292682927 * 0.6222222222222222))/ (0.6829268292682927 + 0.6222222222222222)}\")"
   ]
  },
  {
   "cell_type": "code",
   "execution_count": 29,
   "id": "1691dbec",
   "metadata": {},
   "outputs": [
    {
     "data": {
      "text/plain": [
       "array([0.31094   , 0.54922781, 0.52367971, 0.40167398, 0.87977383,\n",
       "       0.67880325, 0.29026938, 0.72410554, 0.51679931, 0.1041937 ,\n",
       "       0.63771515, 0.78984012, 0.38833889, 0.69800029, 0.31546559,\n",
       "       0.47400913, 0.6799079 , 0.28482406, 0.70290158, 0.11695181,\n",
       "       0.64192901, 0.22273085, 0.57722357, 0.16046152, 0.38638253,\n",
       "       0.32958119, 0.75869952, 0.38975982, 0.85019696, 0.44669122,\n",
       "       0.43323505, 0.61433225, 0.73358992, 0.77432143, 0.52479695,\n",
       "       0.14064069, 0.38309245, 0.78231633, 0.12584114, 0.9011615 ,\n",
       "       0.40101323, 0.83436208, 0.54852467, 0.56136608, 0.26470116,\n",
       "       0.9285277 , 0.18356512, 0.50809443, 0.80459086, 0.58341004,\n",
       "       0.11924901, 0.80554095, 0.74875606, 0.7844782 , 0.36115557,\n",
       "       0.2383094 , 0.75504694, 0.6335088 , 0.60300164, 0.60616239,\n",
       "       0.36909006, 0.62342805, 0.40736627, 0.42698012, 0.69404071,\n",
       "       0.50243399, 0.25629384, 0.14764132, 0.78588726, 0.51760527,\n",
       "       0.62926267, 0.48792124, 0.23929482, 0.63976575, 0.33891976,\n",
       "       0.76182861, 0.22686498, 0.52782236, 0.50865637, 0.62497553,\n",
       "       0.38101146, 0.20714582, 0.36511567, 0.74886402, 0.42915661,\n",
       "       0.38035581, 0.5162438 , 0.57924828, 0.08686461, 0.30073461,\n",
       "       0.60803369, 0.55348143, 0.64924785, 0.81959255, 0.84347788,\n",
       "       0.20861543, 0.36333089, 0.20194471, 0.60800827, 0.1991048 ,\n",
       "       0.19448667, 0.48187727, 0.31747487, 0.15229912, 0.66910507,\n",
       "       0.90276678, 0.57260522, 0.30352235, 0.5903545 , 0.16466966,\n",
       "       0.59942948, 0.55170678, 0.66259765, 0.29528975, 0.73949611,\n",
       "       0.26021472, 0.68718323, 0.28822974, 0.52656442, 0.24743109,\n",
       "       0.18035776, 0.09699694, 0.82242006, 0.82177298, 0.28326225,\n",
       "       0.74458601, 0.50963068, 0.7096564 , 0.50381509, 0.46822131,\n",
       "       0.73329152, 0.33608418, 0.73317857, 0.46808863, 0.25304689,\n",
       "       0.75433411, 0.58127124, 0.25209739, 0.83397735, 0.36962102,\n",
       "       0.81142137, 0.44288201, 0.51142094, 0.52684726, 0.54647557,\n",
       "       0.86157419, 0.32809858, 0.40246494, 0.45092802, 0.71563452,\n",
       "       0.43649707, 0.67290269, 0.40926492, 0.29311823, 0.86733089,\n",
       "       0.70564524, 0.82024736, 0.36627432, 0.5911757 , 0.59264966,\n",
       "       0.50963068, 0.43187231, 0.56654231, 0.43608189, 0.63287244,\n",
       "       0.70975197, 0.16256353, 0.46547206, 0.1902837 , 0.20971176,\n",
       "       0.43567191, 0.09719314, 0.44506893, 0.49828462, 0.38806534,\n",
       "       0.17928743, 0.76312051, 0.60973492, 0.42955674, 0.7078255 ,\n",
       "       0.5268601 , 0.65089482, 0.10544075, 0.57885869, 0.29702322,\n",
       "       0.70761648, 0.34078005])"
      ]
     },
     "execution_count": 29,
     "metadata": {},
     "output_type": "execute_result"
    }
   ],
   "source": [
    "logit_pred_proba = lr.predict_proba(X_test)[:,1]\n",
    "logit_pred_proba"
   ]
  },
  {
   "cell_type": "code",
   "execution_count": 30,
   "id": "0ccfe4d8",
   "metadata": {},
   "outputs": [
    {
     "name": "stderr",
     "output_type": "stream",
     "text": [
      "C:\\Users\\maxkl\\anaconda3\\lib\\site-packages\\sklearn\\metrics\\_classification.py:1245: UndefinedMetricWarning: Precision is ill-defined and being set to 0.0 due to no predicted samples. Use `zero_division` parameter to control this behavior.\n",
      "  _warn_prf(average, modifier, msg_start, len(result))\n",
      "C:\\Users\\maxkl\\anaconda3\\lib\\site-packages\\sklearn\\metrics\\_classification.py:1245: UndefinedMetricWarning: Precision is ill-defined and being set to 0.0 due to no predicted samples. Use `zero_division` parameter to control this behavior.\n",
      "  _warn_prf(average, modifier, msg_start, len(result))\n"
     ]
    },
    {
     "data": {
      "image/png": "[encoded data removed]",
      "text/plain": [
       "<Figure size 432x288 with 1 Axes>"
      ]
     },
     "metadata": {},
     "output_type": "display_data"
    }
   ],
   "source": [
    "#plotting the precision and recall of the model based on threshold applied\n",
    "\n",
    "precisions = []\n",
    "recalls = []\n",
    "thresholds = []\n",
    "for threshold in [0, 0.1, 0.2, 0.3, 0.4, 0.5, 0.6, 0.7, 0.8, 0.9, 1.0, 1.1]:\n",
    "    precisions.append(metrics.precision_score(y_test, logit_pred_proba > threshold))\n",
    "    recalls.append(metrics.recall_score(y_test, logit_pred_proba > threshold))\n",
    "    thresholds.append(threshold)\n",
    "    \n",
    "precisions, recalls, thresholds\n",
    "\n",
    "plt.plot(thresholds, precisions, label=\"Precision\")\n",
    "plt.plot(thresholds, recalls, label=\"Recall\")\n",
    "plt.legend();\n",
    "plt.xlabel(\"Threshold\");"
   ]
  },
  {
   "cell_type": "markdown",
   "id": "005fc092",
   "metadata": {},
   "source": [
    "# Given that this model is supposed to predict heart disease, it is better to have a higher rate of False Positives than False Negatives, so higher recall is desirable. Without wanting to impair precision too much, a threshold of 0.5 seems to be bearable but could easily be lowered to 0.3 or even 0.2 "
   ]
  }
 ],
 "metadata": {
  "kernelspec": {
   "display_name": "Python 3",
   "language": "python",
   "name": "python3"
  },
  "language_info": {
   "codemirror_mode": {
    "name": "ipython",
    "version": 3
   },
   "file_extension": ".py",
   "mimetype": "text/x-python",
   "name": "python",
   "nbconvert_exporter": "python",
   "pygments_lexer": "ipython3",
   "version": "3.8.8"
  }
 },
 "nbformat": 4,
 "nbformat_minor": 5
}
